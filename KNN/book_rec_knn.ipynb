{
 "cells": [
  {
   "cell_type": "code",
   "execution_count": 6,
   "metadata": {},
   "outputs": [
    {
     "name": "stdout",
     "output_type": "stream",
     "text": [
      "The Karate Kid\n",
      "A Brilliant Young Mind\n",
      "Finding Forrester\n"
     ]
    }
   ],
   "source": [
    "from collections import Counter\n",
    "import math\n",
    "\n",
    "def knn(data, query, k, choice_fn):\n",
    "    neighbor_distances_and_indices = []\n",
    "   \n",
    "    for index, example in enumerate(data):\n",
    "       \n",
    "        distance = euclidean_distance(example[:-1], query)\n",
    " \n",
    "        neighbor_distances_and_indices.append((distance, index))\n",
    "   \n",
    "    sorted_neighbor_distances_and_indices = sorted(neighbor_distances_and_indices)\n",
    "   \n",
    "    k_nearest_distances_and_indices = sorted_neighbor_distances_and_indices[:k]\n",
    "   \n",
    "    k_nearest_labels = [data[i][1] for distance, i in k_nearest_distances_and_indices]\n",
    "\n",
    "    return k_nearest_distances_and_indices , choice_fn(k_nearest_labels)\n",
    "\n",
    "def mean(labels):\n",
    "    return sum(labels) / len(labels)\n",
    "\n",
    "def mode(labels):\n",
    "    return Counter(labels).most_common(1)[0][0]\n",
    "\n",
    "def euclidean_distance(point1, point2):\n",
    "    sum_squared_distance = 0\n",
    "    for i in range(len(point1)):\n",
    "        sum_squared_distance += math.pow(point1[i] - point2[i], 2)\n",
    "    return math.sqrt(sum_squared_distance)\n",
    "def recommend_books(book_query, k_recommendations):\n",
    "    raw_books_data = []\n",
    "    with open('books_recommendation_data.csv', 'r') as md:\n",
    "       \n",
    "        next(md)\n",
    "\n",
    "       \n",
    "        for line in md.readlines():\n",
    "            data_row = line.strip().split(',')\n",
    "            raw_books_data.append(data_row)\n",
    "\n",
    "   \n",
    "    books_recommendation_data = []\n",
    "    for row in raw_books_data:\n",
    "        data_row = list(map(float, row[2:]))\n",
    "        books_recommendation_data.append(data_row)\n",
    "\n",
    "\n",
    "    recommendation_indices, _ = knn(\n",
    "        books_recommendation_data, book_query, k=k_recommendations, choice_fn=lambda x: None\n",
    "    )\n",
    "\n",
    "    book_recommendations = []\n",
    "    for _, index in recommendation_indices:\n",
    "        book_recommendations.append(raw_books_data[index])\n",
    "\n",
    "    return book_recommendations\n",
    "\n",
    "if __name__ == '__main__':\n",
    "    the_post = [6.5, 0, 1, 0, 1, 0, 0, 0, 0] # feature vector for The Post\n",
    "    # Rating,Biography,Drama,Thriller,Comedy,Crime,Mystery,History,Label\n",
    "    recommended_books = recommend_books(book_query=the_post, k_recommendations=3)\n",
    "\n",
    "    # Print recommended book titles\n",
    "    for recommendation in recommended_books:\n",
    "        print(recommendation[1])\n"
   ]
  },
  {
   "cell_type": "code",
   "execution_count": null,
   "metadata": {},
   "outputs": [],
   "source": []
  }
 ],
 "metadata": {
  "kernelspec": {
   "display_name": "Python 3",
   "language": "python",
   "name": "python3"
  },
  "language_info": {
   "codemirror_mode": {
    "name": "ipython",
    "version": 3
   },
   "file_extension": ".py",
   "mimetype": "text/x-python",
   "name": "python",
   "nbconvert_exporter": "python",
   "pygments_lexer": "ipython3",
   "version": "3.7.3"
  }
 },
 "nbformat": 4,
 "nbformat_minor": 2
}
